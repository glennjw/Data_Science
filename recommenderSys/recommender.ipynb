{
 "cells": [
  {
   "cell_type": "code",
   "execution_count": 75,
   "id": "5f3177e5",
   "metadata": {},
   "outputs": [],
   "source": [
    "import os, zipfile\n",
    "import pandas as pd\n",
    "import torch\n",
    "import numpy as np\n",
    "from torch.autograd import Variable\n",
    "from tqdm.notebook import tqdm"
   ]
  },
  {
   "cell_type": "code",
   "execution_count": 19,
   "id": "bda44a69",
   "metadata": {},
   "outputs": [
    {
     "name": "stdout",
     "output_type": "stream",
     "text": [
      "  % Total    % Received % Xferd  Average Speed   Time    Time     Time  Current\n",
      "                                 Dload  Upload   Total   Spent    Left  Speed\n",
      "100  955k  100  955k    0     0   889k      0  0:00:01  0:00:01 --:--:--  890k\n"
     ]
    }
   ],
   "source": [
    "# download dataset\n",
    "! curl http://files.grouplens.org/datasets/movielens/ml-latest-small.zip -o ml-latest-small.zip"
   ]
  },
  {
   "cell_type": "code",
   "execution_count": 20,
   "id": "a50fd57d",
   "metadata": {},
   "outputs": [],
   "source": [
    "import zipfile\n",
    "with zipfile.ZipFile('ml-latest-small.zip', 'r') as zip_ref:\n",
    "    zip_ref.extractall()"
   ]
  },
  {
   "cell_type": "code",
   "execution_count": 87,
   "id": "cc5c42cb",
   "metadata": {},
   "outputs": [
    {
     "name": "stdout",
     "output_type": "stream",
     "text": [
      "   movieId             title                                       genres\n",
      "0        1  Toy Story (1995)  Adventure|Animation|Children|Comedy|Fantasy\n",
      "1        2    Jumanji (1995)                   Adventure|Children|Fantasy\n",
      "   userId  movieId  rating  timestamp\n",
      "0       1        1     4.0  964982703\n",
      "1       1        3     4.0  964981247\n"
     ]
    }
   ],
   "source": [
    "# import dataset\n",
    "ds_file = 'ml-latest-small'\n",
    "movies_df = pd.read_csv(ds_file + '/movies.csv')\n",
    "ratings_df = pd.read_csv(ds_file + '/ratings.csv')\n",
    "print(movies_df.head(2))\n",
    "print(ratings_df.head(2))"
   ]
  },
  {
   "cell_type": "code",
   "execution_count": 88,
   "id": "fb5a6c6f",
   "metadata": {},
   "outputs": [
    {
     "name": "stdout",
     "output_type": "stream",
     "text": [
      "610 9742\n"
     ]
    }
   ],
   "source": [
    "movie_names = movies_df.set_index('movieId')['title'].to_dict()\n",
    "n_users = len(ratings_df.userId.unique())\n",
    "n_items = len(movies_df.movieId.unique())\n",
    "print(n_users, n_items)"
   ]
  },
  {
   "cell_type": "code",
   "execution_count": 93,
   "id": "cbfd904f",
   "metadata": {},
   "outputs": [],
   "source": [
    "import torch\n",
    "import numpy as np\n",
    "from torch.autograd import Variable\n",
    "from tqdm import tqdm_notebook as tqdm\n",
    "\n",
    "class MatrixFactorization(torch.nn.Module):\n",
    "    def __init__(self, n_users, n_items, n_factors=8):\n",
    "        super().__init__()\n",
    "        self.user_factors = torch.nn.Embedding(n_users, n_factors)  # user embeddings\n",
    "        self.item_factors = torch.nn.Embedding(n_items, n_factors)  # item embeddings\n",
    "        self.user_factors.weight.data.uniform_(0, 0.05)\n",
    "        self.item_factors.weight.data.uniform_(0, 0.05)\n",
    "        \n",
    "    def forward(self, data):\n",
    "        users, items = data[:,0], data[:,1]\n",
    "        return (self.user_factors(users)*self.item_factors(items)).sum(1)\n",
    "    \n",
    "    def predict(self, user, item):\n",
    "        return self.forward(user, item)\n",
    "     "
   ]
  },
  {
   "cell_type": "code",
   "execution_count": 94,
   "id": "16c82bf0",
   "metadata": {},
   "outputs": [],
   "source": [
    "from torch.utils.data.dataset import Dataset\n",
    "from torch.utils.data import DataLoader\n",
    "\n",
    "class Loader(Dataset):\n",
    "    def __init__(self):\n",
    "        self.ratings = ratings_df.copy()\n",
    "        \n",
    "        users = ratings_df.userId.unique()\n",
    "        movies = ratings_df.movieId.unique()\n",
    "        \n",
    "        self.movieid2idx = {o:i for i,o in enumerate(movies)}\n",
    "        self.idx2movieid = {i:o for o,i in self.movieid2idx.items()}\n",
    "        self.userid2idx = {o:i for i,o in enumerate(users)}\n",
    "        self.idx2userid = {i:o for o,i in self.userid2idx.items()}\n",
    "        \n",
    "        self.ratings.movieId = ratings_df.movieId.apply(lambda x: self.movieid2idx[x])\n",
    "        self.ratings.userId = ratings_df.userId.apply(lambda x: self.userid2idx[x])\n",
    "        self.x = self.ratings.drop(['rating', 'timestamp'], axis=1).values\n",
    "        self.y = self.ratings['rating'].values\n",
    "        self.x, self.y = torch.tensor(self.x), torch.tensor(self.y)\n",
    "    \n",
    "    def __getitem__(self, index):\n",
    "        return (self.x[index], self.y[index])\n",
    "\n",
    "    def __len__(self):\n",
    "        return len(self.ratings)"
   ]
  },
  {
   "cell_type": "code",
   "execution_count": 95,
   "id": "629c607d",
   "metadata": {},
   "outputs": [
    {
     "name": "stdout",
     "output_type": "stream",
     "text": [
      "model:  MatrixFactorization(\n",
      "  (user_factors): Embedding(610, 8)\n",
      "  (item_factors): Embedding(9742, 8)\n",
      ")\n",
      "user_factors.weight tensor([[0.0116, 0.0364, 0.0324,  ..., 0.0195, 0.0150, 0.0418],\n",
      "        [0.0496, 0.0247, 0.0079,  ..., 0.0167, 0.0248, 0.0349],\n",
      "        [0.0244, 0.0315, 0.0273,  ..., 0.0122, 0.0420, 0.0251],\n",
      "        ...,\n",
      "        [0.0072, 0.0259, 0.0187,  ..., 0.0198, 0.0472, 0.0152],\n",
      "        [0.0291, 0.0315, 0.0319,  ..., 0.0383, 0.0250, 0.0173],\n",
      "        [0.0259, 0.0080, 0.0340,  ..., 0.0193, 0.0148, 0.0045]])\n",
      "item_factors.weight tensor([[0.0257, 0.0409, 0.0360,  ..., 0.0299, 0.0112, 0.0453],\n",
      "        [0.0442, 0.0456, 0.0328,  ..., 0.0458, 0.0373, 0.0351],\n",
      "        [0.0106, 0.0493, 0.0479,  ..., 0.0142, 0.0190, 0.0444],\n",
      "        ...,\n",
      "        [0.0463, 0.0311, 0.0098,  ..., 0.0166, 0.0436, 0.0066],\n",
      "        [0.0373, 0.0299, 0.0138,  ..., 0.0016, 0.0371, 0.0419],\n",
      "        [0.0069, 0.0298, 0.0316,  ..., 0.0243, 0.0300, 0.0065]])\n"
     ]
    }
   ],
   "source": [
    "n_epochs = 32\n",
    "gpu = torch.cuda.is_available()\n",
    "\n",
    "model = MatrixFactorization(n_users, n_items, n_factors=8)\n",
    "print('model: ', model)\n",
    "\n",
    "for name, param in model.named_parameters():\n",
    "    if param.requires_grad:\n",
    "        print(name, param.data)\n",
    "\n",
    "if gpu:\n",
    "    model = model.cuda()\n",
    "\n",
    "loss_func = torch.nn.MSELoss()\n",
    "\n",
    "optimizer = torch.optim.Adam(model.parameters(), lr=1e-3)\n",
    "\n",
    "train_set = Loader()\n",
    "train_loader = DataLoader(train_set, 128, shuffle=True)"
   ]
  },
  {
   "cell_type": "code",
   "execution_count": 96,
   "id": "a29cc195",
   "metadata": {
    "scrolled": true
   },
   "outputs": [
    {
     "name": "stderr",
     "output_type": "stream",
     "text": [
      "/tmp/ipykernel_1711002/96410723.py:1: TqdmDeprecationWarning: This function will be removed in tqdm==5.0.0\n",
      "Please use `tqdm.notebook.tqdm` instead of `tqdm.tqdm_notebook`\n",
      "  for nth_ep in tqdm(range(n_epochs)):\n"
     ]
    },
    {
     "data": {
      "application/vnd.jupyter.widget-view+json": {
       "model_id": "8efb750232354d35942adfaa2332db08",
       "version_major": 2,
       "version_minor": 0
      },
      "text/plain": [
       "  0%|          | 0/32 [00:00<?, ?it/s]"
      ]
     },
     "metadata": {},
     "output_type": "display_data"
    },
    {
     "name": "stdout",
     "output_type": "stream",
     "text": [
      "epoch 0  Loss:  11.066052680088179\n",
      "epoch 1  Loss:  4.745891238832232\n",
      "epoch 2  Loss:  2.475745243166909\n",
      "epoch 3  Loss:  1.7223003651890052\n",
      "epoch 4  Loss:  1.3468749485342635\n",
      "epoch 5  Loss:  1.129087515061882\n",
      "epoch 6  Loss:  0.9918312261703656\n",
      "epoch 7  Loss:  0.9006307883386685\n",
      "epoch 8  Loss:  0.8374716678095347\n",
      "epoch 9  Loss:  0.7925231027119051\n",
      "epoch 10  Loss:  0.7596731693082049\n",
      "epoch 11  Loss:  0.7350000817763623\n",
      "epoch 12  Loss:  0.7162968554926402\n",
      "epoch 13  Loss:  0.7019135373724898\n",
      "epoch 14  Loss:  0.6906995851225054\n",
      "epoch 15  Loss:  0.6818176688730414\n",
      "epoch 16  Loss:  0.6752235205267286\n",
      "epoch 17  Loss:  0.669942523281889\n",
      "epoch 18  Loss:  0.6659615804550006\n",
      "epoch 19  Loss:  0.6627579918367609\n",
      "epoch 20  Loss:  0.6606086823843458\n",
      "epoch 21  Loss:  0.6589910228769791\n",
      "epoch 22  Loss:  0.6576290969845607\n",
      "epoch 23  Loss:  0.6566704963215717\n",
      "epoch 24  Loss:  0.655902912811882\n",
      "epoch 25  Loss:  0.655137757283782\n",
      "epoch 26  Loss:  0.6541149247872647\n",
      "epoch 27  Loss:  0.6533689685733185\n",
      "epoch 28  Loss:  0.6524896902330031\n",
      "epoch 29  Loss:  0.6510028228315\n",
      "epoch 30  Loss:  0.6498035426974902\n",
      "epoch 31  Loss:  0.6478996722377496\n"
     ]
    }
   ],
   "source": [
    "for nth_ep in tqdm(range(n_epochs)):\n",
    "    losses = []\n",
    "    for x,y in train_loader:\n",
    "        if gpu:\n",
    "            x, y = x.cuda(), y.cuda()\n",
    "        optimizer.zero_grad()\n",
    "        outputs = model(x)\n",
    "        loss = loss_func(outputs.squeeze(), y.type(torch.float32))\n",
    "        losses.append(loss.item())\n",
    "        loss.backward()\n",
    "        optimizer.step()\n",
    "    print('epoch {}'.format(nth_ep), ' Loss: ', sum(losses)/len(losses))"
   ]
  },
  {
   "cell_type": "code",
   "execution_count": 97,
   "id": "743e65ca",
   "metadata": {},
   "outputs": [
    {
     "name": "stdout",
     "output_type": "stream",
     "text": [
      "user_factors.weight\n",
      "item_factors.weight\n"
     ]
    }
   ],
   "source": [
    "# latent factors for movies and users\n",
    "c, uw, iw = 0, 0, 0\n",
    "for name, param in model.named_parameters():\n",
    "    if param.requires_grad:\n",
    "        print(name)\n",
    "        if c == 0:\n",
    "            uw = param.data\n",
    "            c += 1\n",
    "        else:\n",
    "            iw = param.data"
   ]
  },
  {
   "cell_type": "code",
   "execution_count": 98,
   "id": "37cdff9c",
   "metadata": {},
   "outputs": [],
   "source": [
    "trained_movie_embeddings = model.item_factors.weight.data.cpu().numpy()"
   ]
  },
  {
   "cell_type": "code",
   "execution_count": 99,
   "id": "d01d69e5",
   "metadata": {},
   "outputs": [],
   "source": [
    "from sklearn.cluster import KMeans\n",
    "kmeans = KMeans(n_clusters=20, n_init=10, random_state=0).fit(trained_movie_embeddings)"
   ]
  },
  {
   "cell_type": "code",
   "execution_count": 100,
   "id": "630bd38b",
   "metadata": {},
   "outputs": [
    {
     "name": "stdout",
     "output_type": "stream",
     "text": [
      "cluster: 0\n",
      "  Twister (1996)\n",
      "  Net, The (1995)\n",
      "  Cliffhanger (1993)\n",
      "  Armageddon (1998)\n",
      "  Mummy, The (1999)\n",
      "  Broken Arrow (1996)\n",
      "  Demolition Man (1993)\n",
      "  Mission: Impossible II (2000)\n",
      "  Charlie's Angels (2000)\n",
      "  Dragonheart (1996)\n",
      "cluster: 1\n",
      "  Guess Who's Coming to Dinner (1967)\n",
      "  Three Billboards Outside Ebbing, Missouri (2017)\n",
      "  Gallipoli (1981)\n",
      "  Band of Brothers (2001)\n",
      "  Lifeboat (1944)\n",
      "  Man Bites Dog (C'est arrivé près de chez vous) (1992)\n",
      "  Reign Over Me (2007)\n",
      "  Jules and Jim (Jules et Jim) (1961)\n",
      "  Discreet Charm of the Bourgeoisie, The (Charme discret de la bourgeoisie, Le) (1972)\n",
      "  Neon Genesis Evangelion: The End of Evangelion (Shin seiki Evangelion Gekijô-ban: Air/Magokoro wo, kimi ni) (1997)\n",
      "cluster: 2\n",
      "  Spice World (1997)\n",
      "  Catwoman (2004)\n",
      "  Jason X (2002)\n",
      "  Problem Child 2 (1991)\n",
      "  When a Stranger Calls (2006)\n",
      "  Police Academy: Mission to Moscow (1994)\n",
      "  House Party 2 (1991)\n",
      "  Amityville II: The Possession (1982)\n",
      "  Jaws: The Revenge (1987)\n",
      "  Epic Movie (2007)\n",
      "cluster: 3\n",
      "  Jurassic Park (1993)\n",
      "  Apollo 13 (1995)\n",
      "  Lion King, The (1994)\n",
      "  Men in Black (a.k.a. MIB) (1997)\n",
      "  Dances with Wolves (1990)\n",
      "  Pirates of the Caribbean: The Curse of the Black Pearl (2003)\n",
      "  X-Men (2000)\n",
      "  Babe (1995)\n",
      "  Truman Show, The (1998)\n",
      "  Rock, The (1996)\n",
      "cluster: 4\n",
      "  Nutty Professor, The (1996)\n",
      "  Lost World: Jurassic Park, The (1997)\n",
      "  Judge Dredd (1995)\n",
      "  Beverly Hills Cop III (1994)\n",
      "  Space Jam (1996)\n",
      "  Johnny Mnemonic (1995)\n",
      "  Planet of the Apes (2001)\n",
      "  Species (1995)\n",
      "  Free Willy (1993)\n",
      "  Fantastic Four (2005)\n",
      "cluster: 5\n",
      "  Pulp Fiction (1994)\n",
      "  Matrix, The (1999)\n",
      "  Star Wars: Episode IV - A New Hope (1977)\n",
      "  Star Wars: Episode V - The Empire Strikes Back (1980)\n",
      "  Usual Suspects, The (1995)\n",
      "  American Beauty (1999)\n",
      "  Seven (a.k.a. Se7en) (1995)\n",
      "  Lord of the Rings: The Fellowship of the Ring, The (2001)\n",
      "  Star Wars: Episode VI - Return of the Jedi (1983)\n",
      "  Godfather, The (1972)\n",
      "cluster: 6\n",
      "  Jetée, La (1962)\n",
      "  Galaxy of Terror (Quest) (1981)\n",
      "  Looker (1981)\n",
      "  Alien Contamination (1980)\n",
      "  Master of the Flying Guillotine (Du bi quan wang da po xue di zi) (1975)\n",
      "  Stanley Kubrick: A Life in Pictures (2001)\n",
      "  Visitor, The (2007)\n",
      "  Jason's Lyric (1994)\n",
      "  Siam Sunset (1999)\n",
      "  Little Murders (1971)\n",
      "cluster: 7\n",
      "  Star Wars: Episode I - The Phantom Menace (1999)\n",
      "  Dumb & Dumber (Dumb and Dumber) (1994)\n",
      "  Austin Powers: The Spy Who Shagged Me (1999)\n",
      "  Home Alone (1990)\n",
      "  Clueless (1995)\n",
      "  Matrix Reloaded, The (2003)\n",
      "  Natural Born Killers (1994)\n",
      "  Star Wars: Episode II - Attack of the Clones (2002)\n",
      "  Mars Attacks! (1996)\n",
      "  Starship Troopers (1997)\n",
      "cluster: 8\n",
      "  Godzilla (1998)\n",
      "  Anaconda (1997)\n",
      "  Richie Rich (1994)\n",
      "  Super Mario Bros. (1993)\n",
      "  Inspector Gadget (1999)\n",
      "  Honey, I Blew Up the Kid (1992)\n",
      "  Speed 2: Cruise Control (1997)\n",
      "  Grease 2 (1982)\n",
      "  I Still Know What You Did Last Summer (1998)\n",
      "  Rocky V (1990)\n",
      "cluster: 9\n"
     ]
    },
    {
     "ename": "KeyError",
     "evalue": "9724",
     "output_type": "error",
     "traceback": [
      "\u001b[0;31m---------------------------------------------------------------------------\u001b[0m",
      "\u001b[0;31mKeyError\u001b[0m                                  Traceback (most recent call last)",
      "Cell \u001b[0;32mIn[100], line 5\u001b[0m\n\u001b[1;32m      3\u001b[0m movs \u001b[38;5;241m=\u001b[39m []\n\u001b[1;32m      4\u001b[0m \u001b[38;5;28;01mfor\u001b[39;00m movidx \u001b[38;5;129;01min\u001b[39;00m np\u001b[38;5;241m.\u001b[39mwhere(kmeans\u001b[38;5;241m.\u001b[39mlabels_ \u001b[38;5;241m==\u001b[39m cluster)[\u001b[38;5;241m0\u001b[39m]:\n\u001b[0;32m----> 5\u001b[0m     movid \u001b[38;5;241m=\u001b[39m \u001b[43mtrain_set\u001b[49m\u001b[38;5;241;43m.\u001b[39;49m\u001b[43midx2movieid\u001b[49m\u001b[43m[\u001b[49m\u001b[43mmovidx\u001b[49m\u001b[43m]\u001b[49m\n\u001b[1;32m      6\u001b[0m     rat_count \u001b[38;5;241m=\u001b[39m ratings_df\u001b[38;5;241m.\u001b[39mloc[ratings_df[\u001b[38;5;124m'\u001b[39m\u001b[38;5;124mmovieId\u001b[39m\u001b[38;5;124m'\u001b[39m]\u001b[38;5;241m==\u001b[39mmovid]\u001b[38;5;241m.\u001b[39mcount()[\u001b[38;5;241m0\u001b[39m]\n\u001b[1;32m      7\u001b[0m     movs\u001b[38;5;241m.\u001b[39mappend((movie_names[movid], rat_count))\n",
      "\u001b[0;31mKeyError\u001b[0m: 9724"
     ]
    }
   ],
   "source": [
    "for cluster in range(10):\n",
    "    print('cluster: {}'.format(cluster))\n",
    "    movs = []\n",
    "    for movidx in np.where(kmeans.labels_ == cluster)[0]:\n",
    "        movid = train_set.idx2movieid[movidx]\n",
    "        rat_count = ratings_df.loc[ratings_df['movieId']==movid].count()[0]\n",
    "        movs.append((movie_names[movid], rat_count))\n",
    "    for mov in sorted(movs, key=lambda tup: tup[1], reverse=True)[:10]:\n",
    "        print(' ', mov[0])"
   ]
  },
  {
   "cell_type": "code",
   "execution_count": null,
   "id": "5338973c",
   "metadata": {},
   "outputs": [],
   "source": []
  },
  {
   "cell_type": "code",
   "execution_count": null,
   "id": "c2f37f5c",
   "metadata": {},
   "outputs": [],
   "source": []
  }
 ],
 "metadata": {
  "kernelspec": {
   "display_name": "Python 3 (ipykernel)",
   "language": "python",
   "name": "python3"
  },
  "language_info": {
   "codemirror_mode": {
    "name": "ipython",
    "version": 3
   },
   "file_extension": ".py",
   "mimetype": "text/x-python",
   "name": "python",
   "nbconvert_exporter": "python",
   "pygments_lexer": "ipython3",
   "version": "3.10.6"
  }
 },
 "nbformat": 4,
 "nbformat_minor": 5
}
